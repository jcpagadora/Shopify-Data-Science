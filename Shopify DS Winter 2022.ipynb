{
 "cells": [
  {
   "cell_type": "markdown",
   "id": "63a290bc",
   "metadata": {},
   "source": [
    "## Question 1\n",
    "\n",
    "On Shopify, we have exactly 100 sneaker shops, and each of these shops sells only one model of shoe. We want to do some analysis of the average order value (AOV). When we look at orders data over a 30 day window, we naively calculate an AOV of $3145.13. Given that we know these shops are selling sneakers, a relatively affordable item, something seems wrong with our analysis. \n",
    "\n",
    "\n",
    "First, let's load the dataset into a pandas dataframe:"
   ]
  },
  {
   "cell_type": "code",
   "execution_count": 2,
   "id": "11ec4d0a",
   "metadata": {},
   "outputs": [
    {
     "data": {
      "text/html": [
       "<div>\n",
       "<style scoped>\n",
       "    .dataframe tbody tr th:only-of-type {\n",
       "        vertical-align: middle;\n",
       "    }\n",
       "\n",
       "    .dataframe tbody tr th {\n",
       "        vertical-align: top;\n",
       "    }\n",
       "\n",
       "    .dataframe thead th {\n",
       "        text-align: right;\n",
       "    }\n",
       "</style>\n",
       "<table border=\"1\" class=\"dataframe\">\n",
       "  <thead>\n",
       "    <tr style=\"text-align: right;\">\n",
       "      <th></th>\n",
       "      <th>order_id</th>\n",
       "      <th>shop_id</th>\n",
       "      <th>user_id</th>\n",
       "      <th>order_amount</th>\n",
       "      <th>total_items</th>\n",
       "      <th>payment_method</th>\n",
       "      <th>created_at</th>\n",
       "    </tr>\n",
       "  </thead>\n",
       "  <tbody>\n",
       "    <tr>\n",
       "      <th>0</th>\n",
       "      <td>1</td>\n",
       "      <td>53</td>\n",
       "      <td>746</td>\n",
       "      <td>224</td>\n",
       "      <td>2</td>\n",
       "      <td>cash</td>\n",
       "      <td>2017-03-13 12:36:56</td>\n",
       "    </tr>\n",
       "    <tr>\n",
       "      <th>1</th>\n",
       "      <td>2</td>\n",
       "      <td>92</td>\n",
       "      <td>925</td>\n",
       "      <td>90</td>\n",
       "      <td>1</td>\n",
       "      <td>cash</td>\n",
       "      <td>2017-03-03 17:38:52</td>\n",
       "    </tr>\n",
       "    <tr>\n",
       "      <th>2</th>\n",
       "      <td>3</td>\n",
       "      <td>44</td>\n",
       "      <td>861</td>\n",
       "      <td>144</td>\n",
       "      <td>1</td>\n",
       "      <td>cash</td>\n",
       "      <td>2017-03-14 4:23:56</td>\n",
       "    </tr>\n",
       "    <tr>\n",
       "      <th>3</th>\n",
       "      <td>4</td>\n",
       "      <td>18</td>\n",
       "      <td>935</td>\n",
       "      <td>156</td>\n",
       "      <td>1</td>\n",
       "      <td>credit_card</td>\n",
       "      <td>2017-03-26 12:43:37</td>\n",
       "    </tr>\n",
       "    <tr>\n",
       "      <th>4</th>\n",
       "      <td>5</td>\n",
       "      <td>18</td>\n",
       "      <td>883</td>\n",
       "      <td>156</td>\n",
       "      <td>1</td>\n",
       "      <td>credit_card</td>\n",
       "      <td>2017-03-01 4:35:11</td>\n",
       "    </tr>\n",
       "  </tbody>\n",
       "</table>\n",
       "</div>"
      ],
      "text/plain": [
       "   order_id  shop_id  user_id  order_amount  total_items payment_method  \\\n",
       "0         1       53      746           224            2           cash   \n",
       "1         2       92      925            90            1           cash   \n",
       "2         3       44      861           144            1           cash   \n",
       "3         4       18      935           156            1    credit_card   \n",
       "4         5       18      883           156            1    credit_card   \n",
       "\n",
       "            created_at  \n",
       "0  2017-03-13 12:36:56  \n",
       "1  2017-03-03 17:38:52  \n",
       "2   2017-03-14 4:23:56  \n",
       "3  2017-03-26 12:43:37  \n",
       "4   2017-03-01 4:35:11  "
      ]
     },
     "execution_count": 2,
     "metadata": {},
     "output_type": "execute_result"
    }
   ],
   "source": [
    "import pandas as pd\n",
    "\n",
    "df = pd.read_csv('2019 Winter Data Science Intern Challenge Data Set - Sheet1.csv')\n",
    "df.head()"
   ]
  },
  {
   "cell_type": "markdown",
   "id": "4aaddea7",
   "metadata": {},
   "source": [
    "Then, we notice that all the data here indeed comes from a 30-day window, namely, during the month 3/2017."
   ]
  },
  {
   "cell_type": "code",
   "execution_count": 5,
   "id": "9317dc1a",
   "metadata": {},
   "outputs": [
    {
     "name": "stdout",
     "output_type": "stream",
     "text": [
      "Earliest transaction: 2017-03-01 0:08:09\n",
      "Latest transaction: 2017-03-30 9:55:00\n"
     ]
    }
   ],
   "source": [
    "print('Earliest transaction:', df['created_at'].min())\n",
    "print('Latest transaction:', df['created_at'].max())"
   ]
  },
  {
   "cell_type": "markdown",
   "id": "e6574bf8",
   "metadata": {},
   "source": [
    "Let's calculate the average order value and verify that it is $3145.13."
   ]
  },
  {
   "cell_type": "code",
   "execution_count": 6,
   "id": "22b0ee03",
   "metadata": {},
   "outputs": [
    {
     "name": "stdout",
     "output_type": "stream",
     "text": [
      "AOV: 3145.128\n"
     ]
    }
   ],
   "source": [
    "print('AOV:', df['order_amount'].mean())"
   ]
  },
  {
   "cell_type": "markdown",
   "id": "b1c3fdcc",
   "metadata": {},
   "source": [
    "#### (a) Think about what could be going wrong with our calculation. Think about a better way to evaluate this data. \n",
    "\n",
    "One way to see what could be going wrong with our analysis is to look at the distribution of order values more specifically. Let's make a histogram of the order values:"
   ]
  },
  {
   "cell_type": "code",
   "execution_count": 21,
   "id": "2bf64329",
   "metadata": {},
   "outputs": [],
   "source": [
    "import matplotlib.pyplot as plt\n",
    "import seaborn as sns"
   ]
  },
  {
   "cell_type": "code",
   "execution_count": 27,
   "id": "2e449e3a",
   "metadata": {},
   "outputs": [
    {
     "data": {
      "image/png": "[encoded data removed]",
      "text/plain": [
       "<Figure size 720x432 with 1 Axes>"
      ]
     },
     "metadata": {
      "needs_background": "light"
     },
     "output_type": "display_data"
    }
   ],
   "source": [
    "plt.figure(figsize=(10, 6))\n",
    "sns.histplot(df['order_amount'].values, linewidth=5)\n",
    "plt.title(\"Distribution of Order Values\")\n",
    "plt.xlabel(\"Order Value\")\n",
    "plt.show()"
   ]
  },
  {
   "cell_type": "code",
   "execution_count": 28,
   "id": "ff26e8da",
   "metadata": {},
   "outputs": [
    {
     "name": "stdout",
     "output_type": "stream",
     "text": [
      "Maximum order value in dataset: 704000\n"
     ]
    }
   ],
   "source": [
    "print(\"Maximum order value in dataset:\", df['order_amount'].max())"
   ]
  },
  {
   "cell_type": "markdown",
   "id": "d05bb500",
   "metadata": {},
   "source": [
    "The plot above reveals a heavily skewed distribution of order values. In particular, the distribution is skewed right, and that the maximum order amount in the dataset is \\\\$704,000. Let's look at orders whose order amounts are larger than, say, \\\\$100,000:"
   ]
  },
  {
   "cell_type": "code",
   "execution_count": 29,
   "id": "ea4938ab",
   "metadata": {},
   "outputs": [
    {
     "data": {
      "text/html": [
       "<div>\n",
       "<style scoped>\n",
       "    .dataframe tbody tr th:only-of-type {\n",
       "        vertical-align: middle;\n",
       "    }\n",
       "\n",
       "    .dataframe tbody tr th {\n",
       "        vertical-align: top;\n",
       "    }\n",
       "\n",
       "    .dataframe thead th {\n",
       "        text-align: right;\n",
       "    }\n",
       "</style>\n",
       "<table border=\"1\" class=\"dataframe\">\n",
       "  <thead>\n",
       "    <tr style=\"text-align: right;\">\n",
       "      <th></th>\n",
       "      <th>order_id</th>\n",
       "      <th>shop_id</th>\n",
       "      <th>user_id</th>\n",
       "      <th>order_amount</th>\n",
       "      <th>total_items</th>\n",
       "      <th>payment_method</th>\n",
       "      <th>created_at</th>\n",
       "    </tr>\n",
       "  </thead>\n",
       "  <tbody>\n",
       "    <tr>\n",
       "      <th>15</th>\n",
       "      <td>16</td>\n",
       "      <td>42</td>\n",
       "      <td>607</td>\n",
       "      <td>704000</td>\n",
       "      <td>2000</td>\n",
       "      <td>credit_card</td>\n",
       "      <td>2017-03-07 4:00:00</td>\n",
       "    </tr>\n",
       "    <tr>\n",
       "      <th>60</th>\n",
       "      <td>61</td>\n",
       "      <td>42</td>\n",
       "      <td>607</td>\n",
       "      <td>704000</td>\n",
       "      <td>2000</td>\n",
       "      <td>credit_card</td>\n",
       "      <td>2017-03-04 4:00:00</td>\n",
       "    </tr>\n",
       "    <tr>\n",
       "      <th>520</th>\n",
       "      <td>521</td>\n",
       "      <td>42</td>\n",
       "      <td>607</td>\n",
       "      <td>704000</td>\n",
       "      <td>2000</td>\n",
       "      <td>credit_card</td>\n",
       "      <td>2017-03-02 4:00:00</td>\n",
       "    </tr>\n",
       "    <tr>\n",
       "      <th>691</th>\n",
       "      <td>692</td>\n",
       "      <td>78</td>\n",
       "      <td>878</td>\n",
       "      <td>154350</td>\n",
       "      <td>6</td>\n",
       "      <td>debit</td>\n",
       "      <td>2017-03-27 22:51:43</td>\n",
       "    </tr>\n",
       "    <tr>\n",
       "      <th>1104</th>\n",
       "      <td>1105</td>\n",
       "      <td>42</td>\n",
       "      <td>607</td>\n",
       "      <td>704000</td>\n",
       "      <td>2000</td>\n",
       "      <td>credit_card</td>\n",
       "      <td>2017-03-24 4:00:00</td>\n",
       "    </tr>\n",
       "    <tr>\n",
       "      <th>1362</th>\n",
       "      <td>1363</td>\n",
       "      <td>42</td>\n",
       "      <td>607</td>\n",
       "      <td>704000</td>\n",
       "      <td>2000</td>\n",
       "      <td>credit_card</td>\n",
       "      <td>2017-03-15 4:00:00</td>\n",
       "    </tr>\n",
       "    <tr>\n",
       "      <th>1436</th>\n",
       "      <td>1437</td>\n",
       "      <td>42</td>\n",
       "      <td>607</td>\n",
       "      <td>704000</td>\n",
       "      <td>2000</td>\n",
       "      <td>credit_card</td>\n",
       "      <td>2017-03-11 4:00:00</td>\n",
       "    </tr>\n",
       "    <tr>\n",
       "      <th>1562</th>\n",
       "      <td>1563</td>\n",
       "      <td>42</td>\n",
       "      <td>607</td>\n",
       "      <td>704000</td>\n",
       "      <td>2000</td>\n",
       "      <td>credit_card</td>\n",
       "      <td>2017-03-19 4:00:00</td>\n",
       "    </tr>\n",
       "    <tr>\n",
       "      <th>1602</th>\n",
       "      <td>1603</td>\n",
       "      <td>42</td>\n",
       "      <td>607</td>\n",
       "      <td>704000</td>\n",
       "      <td>2000</td>\n",
       "      <td>credit_card</td>\n",
       "      <td>2017-03-17 4:00:00</td>\n",
       "    </tr>\n",
       "    <tr>\n",
       "      <th>2153</th>\n",
       "      <td>2154</td>\n",
       "      <td>42</td>\n",
       "      <td>607</td>\n",
       "      <td>704000</td>\n",
       "      <td>2000</td>\n",
       "      <td>credit_card</td>\n",
       "      <td>2017-03-12 4:00:00</td>\n",
       "    </tr>\n",
       "    <tr>\n",
       "      <th>2297</th>\n",
       "      <td>2298</td>\n",
       "      <td>42</td>\n",
       "      <td>607</td>\n",
       "      <td>704000</td>\n",
       "      <td>2000</td>\n",
       "      <td>credit_card</td>\n",
       "      <td>2017-03-07 4:00:00</td>\n",
       "    </tr>\n",
       "    <tr>\n",
       "      <th>2492</th>\n",
       "      <td>2493</td>\n",
       "      <td>78</td>\n",
       "      <td>834</td>\n",
       "      <td>102900</td>\n",
       "      <td>4</td>\n",
       "      <td>debit</td>\n",
       "      <td>2017-03-04 4:37:34</td>\n",
       "    </tr>\n",
       "    <tr>\n",
       "      <th>2835</th>\n",
       "      <td>2836</td>\n",
       "      <td>42</td>\n",
       "      <td>607</td>\n",
       "      <td>704000</td>\n",
       "      <td>2000</td>\n",
       "      <td>credit_card</td>\n",
       "      <td>2017-03-28 4:00:00</td>\n",
       "    </tr>\n",
       "    <tr>\n",
       "      <th>2969</th>\n",
       "      <td>2970</td>\n",
       "      <td>42</td>\n",
       "      <td>607</td>\n",
       "      <td>704000</td>\n",
       "      <td>2000</td>\n",
       "      <td>credit_card</td>\n",
       "      <td>2017-03-28 4:00:00</td>\n",
       "    </tr>\n",
       "    <tr>\n",
       "      <th>3332</th>\n",
       "      <td>3333</td>\n",
       "      <td>42</td>\n",
       "      <td>607</td>\n",
       "      <td>704000</td>\n",
       "      <td>2000</td>\n",
       "      <td>credit_card</td>\n",
       "      <td>2017-03-24 4:00:00</td>\n",
       "    </tr>\n",
       "    <tr>\n",
       "      <th>4056</th>\n",
       "      <td>4057</td>\n",
       "      <td>42</td>\n",
       "      <td>607</td>\n",
       "      <td>704000</td>\n",
       "      <td>2000</td>\n",
       "      <td>credit_card</td>\n",
       "      <td>2017-03-28 4:00:00</td>\n",
       "    </tr>\n",
       "    <tr>\n",
       "      <th>4646</th>\n",
       "      <td>4647</td>\n",
       "      <td>42</td>\n",
       "      <td>607</td>\n",
       "      <td>704000</td>\n",
       "      <td>2000</td>\n",
       "      <td>credit_card</td>\n",
       "      <td>2017-03-02 4:00:00</td>\n",
       "    </tr>\n",
       "    <tr>\n",
       "      <th>4868</th>\n",
       "      <td>4869</td>\n",
       "      <td>42</td>\n",
       "      <td>607</td>\n",
       "      <td>704000</td>\n",
       "      <td>2000</td>\n",
       "      <td>credit_card</td>\n",
       "      <td>2017-03-22 4:00:00</td>\n",
       "    </tr>\n",
       "    <tr>\n",
       "      <th>4882</th>\n",
       "      <td>4883</td>\n",
       "      <td>42</td>\n",
       "      <td>607</td>\n",
       "      <td>704000</td>\n",
       "      <td>2000</td>\n",
       "      <td>credit_card</td>\n",
       "      <td>2017-03-25 4:00:00</td>\n",
       "    </tr>\n",
       "  </tbody>\n",
       "</table>\n",
       "</div>"
      ],
      "text/plain": [
       "      order_id  shop_id  user_id  order_amount  total_items payment_method  \\\n",
       "15          16       42      607        704000         2000    credit_card   \n",
       "60          61       42      607        704000         2000    credit_card   \n",
       "520        521       42      607        704000         2000    credit_card   \n",
       "691        692       78      878        154350            6          debit   \n",
       "1104      1105       42      607        704000         2000    credit_card   \n",
       "1362      1363       42      607        704000         2000    credit_card   \n",
       "1436      1437       42      607        704000         2000    credit_card   \n",
       "1562      1563       42      607        704000         2000    credit_card   \n",
       "1602      1603       42      607        704000         2000    credit_card   \n",
       "2153      2154       42      607        704000         2000    credit_card   \n",
       "2297      2298       42      607        704000         2000    credit_card   \n",
       "2492      2493       78      834        102900            4          debit   \n",
       "2835      2836       42      607        704000         2000    credit_card   \n",
       "2969      2970       42      607        704000         2000    credit_card   \n",
       "3332      3333       42      607        704000         2000    credit_card   \n",
       "4056      4057       42      607        704000         2000    credit_card   \n",
       "4646      4647       42      607        704000         2000    credit_card   \n",
       "4868      4869       42      607        704000         2000    credit_card   \n",
       "4882      4883       42      607        704000         2000    credit_card   \n",
       "\n",
       "               created_at  \n",
       "15     2017-03-07 4:00:00  \n",
       "60     2017-03-04 4:00:00  \n",
       "520    2017-03-02 4:00:00  \n",
       "691   2017-03-27 22:51:43  \n",
       "1104   2017-03-24 4:00:00  \n",
       "1362   2017-03-15 4:00:00  \n",
       "1436   2017-03-11 4:00:00  \n",
       "1562   2017-03-19 4:00:00  \n",
       "1602   2017-03-17 4:00:00  \n",
       "2153   2017-03-12 4:00:00  \n",
       "2297   2017-03-07 4:00:00  \n",
       "2492   2017-03-04 4:37:34  \n",
       "2835   2017-03-28 4:00:00  \n",
       "2969   2017-03-28 4:00:00  \n",
       "3332   2017-03-24 4:00:00  \n",
       "4056   2017-03-28 4:00:00  \n",
       "4646   2017-03-02 4:00:00  \n",
       "4868   2017-03-22 4:00:00  \n",
       "4882   2017-03-25 4:00:00  "
      ]
     },
     "execution_count": 29,
     "metadata": {},
     "output_type": "execute_result"
    }
   ],
   "source": [
    "df[df['order_amount'] > 100000]"
   ]
  },
  {
   "cell_type": "markdown",
   "id": "fd4436d4",
   "metadata": {},
   "source": [
    "From this view, it seems that there are two things going on: (i) shop 78 sells expensive shoes, and (ii) user 607 bought 2000 items from shop 42.\n",
    "\n",
    "This quick analysis suggests that these extremely high order values influence the average order value that we calculate."
   ]
  },
  {
   "cell_type": "markdown",
   "id": "5938e6d5",
   "metadata": {},
   "source": [
    "#### (b) What metric would you report for this dataset?\n",
    "\n",
    "A better metric that summarizes order value is probably just the **median order value**, since this metric is not sensitive to outliers. If we're concerned with the fact that the AOV is too expensive for sneakers, we should instead look at the average cost of the sneakers in our dataset, since orders can contain multiple items. Therefore, an even better metric for our analysis would be the **average item value**."
   ]
  },
  {
   "cell_type": "markdown",
   "id": "e0686b05",
   "metadata": {},
   "source": [
    "#### (c) What is its value?\n",
    "\n",
    "From the calculations below, the **median order value** is about \\\\$284, and the **average item value** is about \\\\$387.74."
   ]
  },
  {
   "cell_type": "code",
   "execution_count": 33,
   "id": "a8eb9be5",
   "metadata": {},
   "outputs": [
    {
     "name": "stdout",
     "output_type": "stream",
     "text": [
      "Median Order Value: 284.0\n",
      "Average Item Value: 387.7428\n"
     ]
    }
   ],
   "source": [
    "print(\"Median Order Value:\", df['order_amount'].median())\n",
    "print(\"Average Item Value:\", (df['order_amount'] / df['total_items']).mean())"
   ]
  },
  {
   "cell_type": "markdown",
   "id": "50d95915",
   "metadata": {},
   "source": [
    "## Question 2"
   ]
  },
  {
   "cell_type": "markdown",
   "id": "1d0fc26a",
   "metadata": {},
   "source": [
    "#### (a) 54\n",
    "\n",
    "I performed a simple join between the Orders and Shippers tables. Then, just count how many orders were shipped by Speedy Express.\n",
    "\n",
    "`SELECT COUNT(*)\n",
    "FROM Orders o INNER JOIN Shippers s\n",
    "    ON o.ShipperID = s.ShipperID\n",
    "WHERE s.ShipperName = 'Speedy Express';`\n",
    "\n",
    "#### (b) Peacock (40 orders)\n",
    "\n",
    "I first joined the employees table with the orders table to get the number of orders per employee. Then, I selected the corresponding record from this view that had the maximum value for the number of orders.\n",
    "\n",
    "`SELECT MAX(num_orders) AS num_orders, LastName \n",
    "FROM (\n",
    "    SELECT COUNT(*) AS num_orders, e.LastName\n",
    "    FROM Employees e\n",
    "    INNER JOIN Orders o\n",
    "    ON e.EmployeeID = o.EmployeeID\n",
    "    GROUP BY e.EmployeeID);`\n",
    "    \n",
    "#### (c) Gorgonzola Telino (ProductID=31, 5 orders)\n",
    "\n",
    "I needed to join the orders table with the customers table to get the coutry information from the customers. Then, I needed the order details and products tables to get the product information. Then, I used this view to count the number of orders per product from customers in Germany, followed by selecting the product with the maximum number of orders.\n",
    "\n",
    "`SELECT MAX(num_orders) num_orders, ProductID, ProductName \n",
    "FROM (\n",
    "    SELECT COUNT(*) num_orders, \n",
    "           p.ProductID, \n",
    "           p.ProductName \n",
    "    FROM Orders o INNER JOIN Customers c\n",
    "            ON o.CustomerID = c.CustomerID\n",
    "        INNER JOIN OrderDetails od\n",
    "            ON o.OrderID = od.OrderID\n",
    "        INNER JOIN Products p\n",
    "            ON od.ProductID = p.ProductID\n",
    "    WHERE c.Country = 'Germany'\n",
    "    GROUP BY p.ProductID);`"
   ]
  },
  {
   "cell_type": "code",
   "execution_count": null,
   "id": "40e8815f",
   "metadata": {},
   "outputs": [],
   "source": []
  }
 ],
 "metadata": {
  "kernelspec": {
   "display_name": "Python 3",
   "language": "python",
   "name": "python3"
  },
  "language_info": {
   "codemirror_mode": {
    "name": "ipython",
    "version": 3
   },
   "file_extension": ".py",
   "mimetype": "text/x-python",
   "name": "python",
   "nbconvert_exporter": "python",
   "pygments_lexer": "ipython3",
   "version": "3.8.8"
  }
 },
 "nbformat": 4,
 "nbformat_minor": 5
}
